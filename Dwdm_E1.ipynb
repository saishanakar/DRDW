{
  "nbformat": 4,
  "nbformat_minor": 0,
  "metadata": {
    "colab": {
      "provenance": [],
      "authorship_tag": "ABX9TyNNr6487/QzXvddcS1dFuqn",
      "include_colab_link": true
    },
    "kernelspec": {
      "name": "python3",
      "display_name": "Python 3"
    },
    "language_info": {
      "name": "python"
    }
  },
  "cells": [
    {
      "cell_type": "markdown",
      "metadata": {
        "id": "view-in-github",
        "colab_type": "text"
      },
      "source": [
        "<a href=\"https://colab.research.google.com/github/saishanakar/DRDW/blob/main/Dwdm_E1.ipynb\" target=\"_parent\"><img src=\"https://colab.research.google.com/assets/colab-badge.svg\" alt=\"Open In Colab\"/></a>"
      ]
    },
    {
      "cell_type": "code",
      "execution_count": 1,
      "metadata": {
        "id": "7FR7hDqxcdxl"
      },
      "outputs": [],
      "source": [
        "import pandas as pd\n",
        "import matplotlib.pyplot as plt\n"
      ]
    },
    {
      "cell_type": "code",
      "source": [
        "data=pd.read_csv(\"/content/IMDbMovies.csv\")"
      ],
      "metadata": {
        "id": "lIrHVZq2dbPW"
      },
      "execution_count": 2,
      "outputs": []
    },
    {
      "cell_type": "code",
      "source": [
        "print(data)"
      ],
      "metadata": {
        "colab": {
          "base_uri": "https://localhost:8080/"
        },
        "id": "pMZ5HKp-djsx",
        "outputId": "c70cbddd-d930-469f-d341-530cf658463a"
      },
      "execution_count": 3,
      "outputs": [
        {
          "output_type": "stream",
          "name": "stdout",
          "text": [
            "                                                  Title  \\\n",
            "0                                              Napoleon   \n",
            "1     The Hunger Games: The Ballad of Songbirds & Sn...   \n",
            "2                                            The Killer   \n",
            "3                                                   Leo   \n",
            "4                                          Thanksgiving   \n",
            "...                                                 ...   \n",
            "9078                                      Over the Moon   \n",
            "9079                                         Young Adam   \n",
            "9080                         The Greatest Show on Earth   \n",
            "9081                                         Deep Water   \n",
            "9082                       Once Upon a Time in Anatolia   \n",
            "\n",
            "                                                Summary  \\\n",
            "0     An epic that details the checkered rise and fa...   \n",
            "1     Coriolanus Snow mentors and develops feelings ...   \n",
            "2     After a fateful near-miss, an assassin battles...   \n",
            "3     A 74-year-old lizard named Leo and his turtle ...   \n",
            "4     After a Black Friday riot ends in tragedy, a m...   \n",
            "...                                                 ...   \n",
            "9078  In this animated musical, a girl builds a rock...   \n",
            "9079  A young drifter working on a river barge disru...   \n",
            "9080  The dramatic lives of trapeze artists, a clown...   \n",
            "9081  A group of international passengers en route f...   \n",
            "9082  A group of men set out in search of a dead bod...   \n",
            "\n",
            "                                               Director  \\\n",
            "0                                          Ridley Scott   \n",
            "1                                      Francis Lawrence   \n",
            "2                                         David Fincher   \n",
            "3     David Wachtenheim,Robert Smigel,Robert Marianetti   \n",
            "4                                              Eli Roth   \n",
            "...                                                 ...   \n",
            "9078                              John Kahrs,Glen Keane   \n",
            "9079                                    David Mackenzie   \n",
            "9080                                   Cecil B. DeMille   \n",
            "9081                                       Renny Harlin   \n",
            "9082                                  Nuri Bilge Ceylan   \n",
            "\n",
            "                                               Writer  \\\n",
            "0                                        David Scarpa   \n",
            "1       Michael Lesslie,Michael Arndt,Suzanne Collins   \n",
            "2       Andrew Kevin Walker,Luc Jacamon,Alexis Nolent   \n",
            "3                Paul Sado,Robert Smigel,Adam Sandler   \n",
            "4                               Eli Roth,Jeff Rendell   \n",
            "...                                               ...   \n",
            "9078      Jennifer Yee McDevitt,Audrey Wells,Alice Wu   \n",
            "9079                Alexander Trocchi,David Mackenzie   \n",
            "9080  Theodore St. John,Fredric M. Frank,Barré Lyndon   \n",
            "9081                                     Pete Bridges   \n",
            "9082        Ercan Kesal,Nuri Bilge Ceylan,Ebru Ceylan   \n",
            "\n",
            "                     Main Genres Motion Picture Rating Runtime  Release Year  \\\n",
            "0     Action,Adventure,Biography                     R  2h 38m        2023.0   \n",
            "1         Action,Adventure,Drama                 PG-13  2h 37m        2023.0   \n",
            "2         Action,Adventure,Crime                     R  1h 58m        2023.0   \n",
            "3        Animation,Comedy,Family                    PG  1h 42m        2023.0   \n",
            "4        Horror,Mystery,Thriller                     R  1h 46m        2023.0   \n",
            "...                          ...                   ...     ...           ...   \n",
            "9078  Animation,Adventure,Comedy                    PG  1h 35m        2020.0   \n",
            "9079                 Crime,Drama                 NC-17  1h 38m        2003.0   \n",
            "9080        Drama,Family,Romance                Passed  2h 32m        1952.0   \n",
            "9081                    Thriller                Passed  2h 32m        1952.0   \n",
            "9082        Crime,Drama,Thriller             Not Rated  2h 37m        2011.0   \n",
            "\n",
            "      Rating Number of Ratings                    Budget Gross in US & Canada  \\\n",
            "0     6.7/10               38K                       NaN         $37,514,498    \n",
            "1     7.2/10               37K  $100,000,000 (estimated)        $105,043,414    \n",
            "2     6.8/10              117K                       NaN                  NaN   \n",
            "3     7.0/10               10K                       NaN                  NaN   \n",
            "4     7.0/10              9.1K                       NaN         $25,408,677    \n",
            "...      ...               ...                       ...                  ...   \n",
            "9078  6.3/10               24K                       NaN                  NaN   \n",
            "9079  6.4/10               15K    $6,400,000 (estimated)            $767,373    \n",
            "9080  6.5/10               16K    $4,000,000 (estimated)         $36,000,000    \n",
            "9081     NaN               NaN                       NaN                  NaN   \n",
            "9082  7.8/10               49K                       NaN            $152,408    \n",
            "\n",
            "     Gross worldwide Opening Weekend Gross in US & Canada  \n",
            "0       $84,968,381               $20,638,887Nov 26, 2023  \n",
            "1      $191,729,235               $44,607,143Nov 19, 2023  \n",
            "2          $421,332                                   NaN  \n",
            "3                NaN                                  NaN  \n",
            "4       $29,666,585               $10,306,272Nov 19, 2023  \n",
            "...              ...                                  ...  \n",
            "9078             NaN                                  NaN  \n",
            "9079     $2,561,820                   $50,278Apr 18, 2004  \n",
            "9080    $36,000,000                                   NaN  \n",
            "9081             NaN                                  NaN  \n",
            "9082     $2,099,472                    $10,952Jan 8, 2012  \n",
            "\n",
            "[9083 rows x 14 columns]\n"
          ]
        }
      ]
    },
    {
      "cell_type": "code",
      "source": [
        "data.info()"
      ],
      "metadata": {
        "colab": {
          "base_uri": "https://localhost:8080/"
        },
        "id": "S-S5ZyvId8Ho",
        "outputId": "46d3c39b-6631-4c9c-a736-8eadb0ddb6b2"
      },
      "execution_count": 6,
      "outputs": [
        {
          "output_type": "stream",
          "name": "stdout",
          "text": [
            "<class 'pandas.core.frame.DataFrame'>\n",
            "RangeIndex: 9083 entries, 0 to 9082\n",
            "Data columns (total 14 columns):\n",
            " #   Column                                Non-Null Count  Dtype  \n",
            "---  ------                                --------------  -----  \n",
            " 0   Title                                 9083 non-null   object \n",
            " 1   Summary                               9083 non-null   object \n",
            " 2   Director                              9052 non-null   object \n",
            " 3   Writer                                8759 non-null   object \n",
            " 4   Main Genres                           9076 non-null   object \n",
            " 5   Motion Picture Rating                 8285 non-null   object \n",
            " 6   Runtime                               8918 non-null   object \n",
            " 7   Release Year                          9076 non-null   float64\n",
            " 8   Rating                                8813 non-null   object \n",
            " 9   Number of Ratings                     8813 non-null   object \n",
            " 10  Budget                                5879 non-null   object \n",
            " 11  Gross in US & Canada                  6064 non-null   object \n",
            " 12  Gross worldwide                       7128 non-null   object \n",
            " 13  Opening Weekend Gross in US & Canada  5695 non-null   object \n",
            "dtypes: float64(1), object(13)\n",
            "memory usage: 993.6+ KB\n"
          ]
        }
      ]
    },
    {
      "cell_type": "code",
      "source": [
        "data.isnull().sum()"
      ],
      "metadata": {
        "colab": {
          "base_uri": "https://localhost:8080/"
        },
        "id": "E2OqL8WQfDGV",
        "outputId": "2a87a528-fc72-49c8-e0e9-fc207460d4cb"
      },
      "execution_count": 8,
      "outputs": [
        {
          "output_type": "execute_result",
          "data": {
            "text/plain": [
              "Title                                      0\n",
              "Summary                                    0\n",
              "Director                                  31\n",
              "Writer                                   324\n",
              "Main Genres                                7\n",
              "Motion Picture Rating                    798\n",
              "Runtime                                  165\n",
              "Release Year                               7\n",
              "Rating                                   270\n",
              "Number of Ratings                        270\n",
              "Budget                                  3204\n",
              "Gross in US & Canada                    3019\n",
              "Gross worldwide                         1955\n",
              "Opening Weekend Gross in US & Canada    3388\n",
              "dtype: int64"
            ]
          },
          "metadata": {},
          "execution_count": 8
        }
      ]
    },
    {
      "cell_type": "code",
      "source": [
        "data.dtypes"
      ],
      "metadata": {
        "colab": {
          "base_uri": "https://localhost:8080/"
        },
        "id": "UZW1jQGqhd0x",
        "outputId": "9a71ce40-15ba-469b-c41a-a6a3d7bc4080"
      },
      "execution_count": 22,
      "outputs": [
        {
          "output_type": "execute_result",
          "data": {
            "text/plain": [
              "Title                                    object\n",
              "Summary                                  object\n",
              "Director                                 object\n",
              "Writer                                   object\n",
              "Main Genres                              object\n",
              "Motion Picture Rating                    object\n",
              "Runtime                                  object\n",
              "Release Year                            float64\n",
              "Rating                                   object\n",
              "Number of Ratings                        object\n",
              "Budget                                   object\n",
              "Gross in US & Canada                     object\n",
              "Gross worldwide                          object\n",
              "Opening Weekend Gross in US & Canada     object\n",
              "dtype: object"
            ]
          },
          "metadata": {},
          "execution_count": 22
        }
      ]
    },
    {
      "cell_type": "code",
      "source": [
        "import pandas as pd\n",
        "\n",
        "# Assuming your dataset is named 'df'\n",
        "columns_to_fill = ['Director', 'Writer', 'Main Genres', 'Motion Picture Rating', 'Rating']\n",
        "data[columns_to_fill] = data[columns_to_fill].fillna('Unknown')\n"
      ],
      "metadata": {
        "id": "Cu2CM0y5j4jY"
      },
      "execution_count": 24,
      "outputs": []
    },
    {
      "cell_type": "code",
      "source": [
        "data.isnull().sum()"
      ],
      "metadata": {
        "colab": {
          "base_uri": "https://localhost:8080/"
        },
        "id": "fHvd6i_mnroe",
        "outputId": "afd69542-af07-428a-eb7f-69e959dd1bcd"
      },
      "execution_count": 26,
      "outputs": [
        {
          "output_type": "execute_result",
          "data": {
            "text/plain": [
              "Title                      0\n",
              "Summary                    0\n",
              "Director                   0\n",
              "Writer                     0\n",
              "Main Genres                0\n",
              "Motion Picture Rating      0\n",
              "Runtime                  165\n",
              "Release Year               7\n",
              "Rating                     0\n",
              "Number of Ratings        270\n",
              "dtype: int64"
            ]
          },
          "metadata": {},
          "execution_count": 26
        }
      ]
    },
    {
      "cell_type": "code",
      "source": [
        "# Replace missing values in 'Main Genres' column with its mode\n",
        "mode_main_genres = data['Main Genres'].mode()[0]\n",
        "data['Main Genres'].fillna(mode_main_genres, inplace=True)\n",
        "# Dropping columns with a high number of missing values\n",
        "columns_to_drop = ['Budget', 'Gross in US & Canada', 'Gross worldwide', 'Opening Weekend Gross in US & Canada']\n",
        "data.drop(columns=columns_to_drop, inplace=True)\n"
      ],
      "metadata": {
        "id": "ixR65E3_nc4H"
      },
      "execution_count": 25,
      "outputs": []
    },
    {
      "cell_type": "code",
      "source": [
        "data.isnull().sum()"
      ],
      "metadata": {
        "colab": {
          "base_uri": "https://localhost:8080/"
        },
        "id": "RHkk6DQKnpU7",
        "outputId": "5181cd99-c9e8-4aa9-ad96-e47b5ad4c3eb"
      },
      "execution_count": 28,
      "outputs": [
        {
          "output_type": "execute_result",
          "data": {
            "text/plain": [
              "Title                      0\n",
              "Summary                    0\n",
              "Director                   0\n",
              "Writer                     0\n",
              "Main Genres                0\n",
              "Motion Picture Rating      0\n",
              "Runtime                  165\n",
              "Release Year               7\n",
              "Rating                     0\n",
              "Number of Ratings        270\n",
              "dtype: int64"
            ]
          },
          "metadata": {},
          "execution_count": 28
        }
      ]
    },
    {
      "cell_type": "code",
      "source": [
        "columns_to_fill = ['Runtime','Release Year','Number of Ratings']\n",
        "data[columns_to_fill] = data[columns_to_fill].fillna('Unknown')\n"
      ],
      "metadata": {
        "id": "o-qx8wnwoG3g"
      },
      "execution_count": 32,
      "outputs": []
    },
    {
      "cell_type": "code",
      "source": [
        "data.isnull().sum()"
      ],
      "metadata": {
        "colab": {
          "base_uri": "https://localhost:8080/"
        },
        "id": "nRJTq6rFpQmZ",
        "outputId": "098c1b94-a7b9-4e70-f933-19149298b68a"
      },
      "execution_count": 33,
      "outputs": [
        {
          "output_type": "execute_result",
          "data": {
            "text/plain": [
              "Title                    0\n",
              "Summary                  0\n",
              "Director                 0\n",
              "Writer                   0\n",
              "Main Genres              0\n",
              "Motion Picture Rating    0\n",
              "Runtime                  0\n",
              "Release Year             0\n",
              "Rating                   0\n",
              "Number of Ratings        0\n",
              "dtype: int64"
            ]
          },
          "metadata": {},
          "execution_count": 33
        }
      ]
    },
    {
      "cell_type": "code",
      "source": [],
      "metadata": {
        "id": "JzX4wWdvpVfq"
      },
      "execution_count": null,
      "outputs": []
    }
  ]
}